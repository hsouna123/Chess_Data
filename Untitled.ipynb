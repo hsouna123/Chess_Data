{
 "cells": [
  {
   "cell_type": "code",
   "execution_count": 1,
   "id": "b3a2800e-72be-4869-81c1-e4ece26c840d",
   "metadata": {
    "tags": []
   },
   "outputs": [
    {
     "name": "stdout",
     "output_type": "stream",
     "text": [
      "Requirement already satisfied: chess.com in c:\\users\\bmgte\\appdata\\local\\programs\\python\\python39\\lib\\site-packages (2.0.6)\n",
      "Requirement already satisfied: requests==2.28.0 in c:\\users\\bmgte\\appdata\\local\\programs\\python\\python39\\lib\\site-packages (from chess.com) (2.28.0)\n",
      "Requirement already satisfied: aiohttp==3.8.3 in c:\\users\\bmgte\\appdata\\local\\programs\\python\\python39\\lib\\site-packages (from chess.com) (3.8.3)\n",
      "Requirement already satisfied: attrs>=17.3.0 in c:\\users\\bmgte\\appdata\\local\\programs\\python\\python39\\lib\\site-packages (from aiohttp==3.8.3->chess.com) (22.2.0)\n",
      "Requirement already satisfied: aiosignal>=1.1.2 in c:\\users\\bmgte\\appdata\\local\\programs\\python\\python39\\lib\\site-packages (from aiohttp==3.8.3->chess.com) (1.3.1)\n",
      "Requirement already satisfied: async-timeout<5.0,>=4.0.0a3 in c:\\users\\bmgte\\appdata\\local\\programs\\python\\python39\\lib\\site-packages (from aiohttp==3.8.3->chess.com) (4.0.2)\n",
      "Requirement already satisfied: yarl<2.0,>=1.0 in c:\\users\\bmgte\\appdata\\local\\programs\\python\\python39\\lib\\site-packages (from aiohttp==3.8.3->chess.com) (1.8.2)\n",
      "Requirement already satisfied: charset-normalizer<3.0,>=2.0 in c:\\users\\bmgte\\appdata\\local\\programs\\python\\python39\\lib\\site-packages (from aiohttp==3.8.3->chess.com) (2.0.12)\n",
      "Requirement already satisfied: frozenlist>=1.1.1 in c:\\users\\bmgte\\appdata\\local\\programs\\python\\python39\\lib\\site-packages (from aiohttp==3.8.3->chess.com) (1.3.3)\n",
      "Requirement already satisfied: multidict<7.0,>=4.5 in c:\\users\\bmgte\\appdata\\local\\programs\\python\\python39\\lib\\site-packages (from aiohttp==3.8.3->chess.com) (6.0.4)\n",
      "Requirement already satisfied: certifi>=2017.4.17 in c:\\users\\bmgte\\appdata\\local\\programs\\python\\python39\\lib\\site-packages (from requests==2.28.0->chess.com) (2022.12.7)\n",
      "Requirement already satisfied: urllib3<1.27,>=1.21.1 in c:\\users\\bmgte\\appdata\\local\\programs\\python\\python39\\lib\\site-packages (from requests==2.28.0->chess.com) (1.26.14)\n",
      "Requirement already satisfied: idna<4,>=2.5 in c:\\users\\bmgte\\appdata\\local\\programs\\python\\python39\\lib\\site-packages (from requests==2.28.0->chess.com) (3.4)\n",
      "Note: you may need to restart the kernel to use updated packages.\n"
     ]
    }
   ],
   "source": [
    "pip install chess.com"
   ]
  },
  {
   "cell_type": "code",
   "execution_count": 2,
   "id": "f86c94ce-bf03-4270-b7ee-2bb78e23b9e7",
   "metadata": {
    "tags": []
   },
   "outputs": [],
   "source": [
    "from chessdotcom import get_player_profile\n",
    "from chessdotcom import get_player_stats\n",
    "import json\n",
    "import csv"
   ]
  },
  {
   "cell_type": "code",
   "execution_count": 3,
   "id": "830105a6-0a38-44f7-a22d-5eafb7186e9b",
   "metadata": {
    "tags": []
   },
   "outputs": [
    {
     "name": "stdout",
     "output_type": "stream",
     "text": [
      "{'player': {'avatar': 'https://images.chesscomfiles.com/uploads/v1/user/35343496.d5b51c07.200x200o.770c24671d74.jpeg', 'player_id': 35343496, '@id': 'https://api.chess.com/pub/player/hsouna1', 'url': 'https://www.chess.com/member/Hsouna1', 'name': 'Mohamed Hsouna', 'username': 'hsouna1', 'followers': 40, 'country': 'https://api.chess.com/pub/country/TN', 'last_online': 1678571810, 'joined': 1494153230, 'status': 'basic', 'is_streamer': False, 'verified': False, 'league': 'Crystal'}}\n"
     ]
    }
   ],
   "source": [
    "data = get_player_profile(\"Hsouna1\")\n",
    "print(data.json)"
   ]
  },
  {
   "cell_type": "code",
   "execution_count": 4,
   "id": "aba3ef52-8e55-4440-acfd-2bb6f4810c10",
   "metadata": {
    "tags": []
   },
   "outputs": [
    {
     "name": "stdout",
     "output_type": "stream",
     "text": [
      "{'stats': {'chess_daily': {'last': {'rating': 1025, 'date': 1676967017, 'rd': 96}, 'best': {'rating': 1127, 'date': 1652547081, 'game': 'https://www.chess.com/game/daily/396063271'}, 'record': {'win': 19, 'loss': 15, 'draw': 2, 'time_per_move': 22707, 'timeout_percent': 0}}, 'chess960_daily': {'last': {'rating': 546, 'date': 1672579207, 'rd': 290}, 'best': {'rating': 800, 'date': 1494153230, 'game': 'https://www.chess.com/game/daily/454142987'}, 'record': {'win': 2, 'loss': 0, 'draw': 0, 'time_per_move': 22707, 'timeout_percent': 0}}, 'chess_rapid': {'last': {'rating': 1207, 'date': 1678564049, 'rd': 56}, 'best': {'rating': 1229, 'date': 1677834687, 'game': 'https://www.chess.com/game/live/53021439351'}, 'record': {'win': 65, 'loss': 51, 'draw': 9}}, 'chess_bullet': {'last': {'rating': 991, 'date': 1678530478, 'rd': 76}, 'best': {'rating': 1391, 'date': 1632300764, 'game': 'https://www.chess.com/game/live/26039404079'}, 'record': {'win': 35, 'loss': 34, 'draw': 1}}, 'chess_blitz': {'last': {'rating': 1459, 'date': 1678564227, 'rd': 27}, 'best': {'rating': 1481, 'date': 1678373460, 'game': 'https://www.chess.com/game/live/53021978819'}, 'record': {'win': 1202, 'loss': 1109, 'draw': 84}}, 'fide': 1700, 'tactics': {'highest': {'rating': 2392, 'date': 1671725382}, 'lowest': {'rating': 812, 'date': 1494884862}}, 'puzzle_rush': {'best': {'total_attempts': 36, 'score': 33}}}}\n"
     ]
    }
   ],
   "source": [
    "data2 = get_player_stats(\"Hsouna1\")\n",
    "print(data2.json)\n",
    "stats = data2.json['stats']\n",
    "\n",
    "with open('player_stats.csv', mode='w', newline='') as csv_file:\n",
    "    writer = csv.DictWriter(csv_file, fieldnames=stats.keys())\n",
    "    writer.writeheader()\n",
    "    writer.writerow(stats)"
   ]
  },
  {
   "cell_type": "code",
   "execution_count": 5,
   "id": "2c2f0cb0-d8f6-4923-8cf3-dfa3fb972590",
   "metadata": {
    "tags": []
   },
   "outputs": [
    {
     "name": "stdout",
     "output_type": "stream",
     "text": [
      "dict_keys(['chess_daily', 'chess960_daily', 'chess_rapid', 'chess_bullet', 'chess_blitz', 'fide', 'tactics', 'puzzle_rush'])\n"
     ]
    }
   ],
   "source": [
    "data2 = get_player_stats(\"Hsouna1\")\n",
    "print(data2.json['stats'].keys())"
   ]
  },
  {
   "cell_type": "code",
   "execution_count": 6,
   "id": "c69e1d04-68ce-4808-8799-5aa5452359e9",
   "metadata": {
    "tags": []
   },
   "outputs": [],
   "source": [
    "data2 = get_player_stats(\"Hsouna1\")\n",
    "stats = data2.json['stats']['chess_blitz']\n",
    "\n",
    "with open('player_stats.csv', mode='w', newline='') as csv_file:\n",
    "    writer = csv.DictWriter(csv_file, fieldnames=stats.keys())\n",
    "    writer.writeheader()\n",
    "    writer.writerow(stats)\n"
   ]
  },
  {
   "cell_type": "code",
   "execution_count": 7,
   "id": "f46ca9d3-09cc-4840-b683-04b05aadce9d",
   "metadata": {},
   "outputs": [
    {
     "data": {
      "image/png": "[encoded data removed]",
      "text/plain": [
       "<Figure size 640x480 with 1 Axes>"
      ]
     },
     "metadata": {},
     "output_type": "display_data"
    }
   ],
   "source": [
    "import matplotlib.pyplot as plt\n",
    "\n",
    "blitz_stats = data2.json['stats']['chess_blitz']['record']\n",
    "labels = ['Wins', 'Losses', 'Draws']\n",
    "sizes = [blitz_stats['win'], blitz_stats['loss'], blitz_stats['draw']]\n",
    "\n",
    "fig1, ax1 = plt.subplots()\n",
    "ax1.pie(sizes, labels=labels, autopct='%1.1f%%')\n",
    "ax1.axis('equal')\n",
    "\n",
    "plt.show()\n"
   ]
  },
  {
   "cell_type": "code",
   "execution_count": 8,
   "id": "90bbed57-dd47-4cbc-ad93-40a4dc7db53b",
   "metadata": {
    "tags": []
   },
   "outputs": [
    {
     "data": {
      "image/png": "[encoded data removed]",
      "text/plain": [
       "<Figure size 640x480 with 1 Axes>"
      ]
     },
     "metadata": {},
     "output_type": "display_data"
    }
   ],
   "source": [
    "import matplotlib.pyplot as plt\n",
    "data = get_player_stats(\"Hsouna1\").json\n",
    "blitz_games = data['stats']['chess_blitz']['record']['win'] + data['stats']['chess_blitz']['record']['loss'] + data['stats']['chess_blitz']['record']['draw']\n",
    "\n",
    "# get the number of games played in blitz\n",
    "blitz_games = data['stats']['chess_blitz']['record']['win'] + data['stats']['chess_blitz']['record']['loss'] + data['stats']['chess_blitz']['record']['draw']\n",
    "\n",
    "# create the pie chart\n",
    "labels = ['Blitz Wins', 'Blitz Losses', 'Blitz Draws']\n",
    "sizes = [data['stats']['chess_blitz']['record']['win']/blitz_games, \n",
    "         data['stats']['chess_blitz']['record']['loss']/blitz_games, \n",
    "         data['stats']['chess_blitz']['record']['draw']/blitz_games]\n",
    "sizes_count = [f\"{data['stats']['chess_blitz']['record']['win']} / {blitz_games}\", \n",
    "               f\"{data['stats']['chess_blitz']['record']['loss']} / {blitz_games}\", \n",
    "               f\"{data['stats']['chess_blitz']['record']['draw']} / {blitz_games}\"]\n",
    "colors = ['#66c2a5', '#fc8d62', '#8da0cb']\n",
    "explode = (0.05, 0.05, 0.05)\n",
    "fig1, ax1 = plt.subplots()\n",
    "ax1.pie(sizes, explode=explode, labels=sizes_count, colors=colors, autopct='%1.1f%%', startangle=90)\n",
    "ax1.axis('equal')\n",
    "plt.legend(labels, loc='best')\n",
    "plt.title('Blitz Record')\n",
    "plt.show()\n"
   ]
  },
  {
   "cell_type": "code",
   "execution_count": 9,
   "id": "a6f8fe5e-02ef-43b0-9608-0da6bfd9507f",
   "metadata": {
    "tags": []
   },
   "outputs": [
    {
     "data": {
      "text/plain": [
       "<Figure size 640x480 with 0 Axes>"
      ]
     },
     "metadata": {},
     "output_type": "display_data"
    }
   ],
   "source": [
    "plt.savefig('pie_chart.png', dpi=300, bbox_inches='tight')\n",
    "with open('stats_for_powerbi.csv', mode='w', newline='') as csv_file:\n",
    "    writer = csv.DictWriter(csv_file, fieldnames=stats.keys())\n",
    "    writer.writeheader()\n",
    "    writer.writerow(stats)\n"
   ]
  },
  {
   "cell_type": "code",
   "execution_count": null,
   "id": "c8f5aa41-4e9c-49a2-bcb6-6c6ffc5b1604",
   "metadata": {},
   "outputs": [],
   "source": []
  },
  {
   "cell_type": "code",
   "execution_count": null,
   "id": "c7b2011d-78a6-449a-a0ae-89123c6a304f",
   "metadata": {},
   "outputs": [],
   "source": []
  },
  {
   "cell_type": "code",
   "execution_count": null,
   "id": "2b15e6ad-5989-4ea5-b2be-f2938fc4e37b",
   "metadata": {},
   "outputs": [],
   "source": []
  },
  {
   "cell_type": "code",
   "execution_count": null,
   "id": "a72faa1e-012b-4560-865d-0ec4b14aea73",
   "metadata": {},
   "outputs": [],
   "source": []
  },
  {
   "cell_type": "code",
   "execution_count": 32,
   "id": "41c670d5-7f5c-468c-a8cd-04f82179cdc8",
   "metadata": {
    "tags": []
   },
   "outputs": [],
   "source": [
    "def get_player_rating(username):\n",
    "    data = get_player_stats(username).json\n",
    "    categories = ['chess_blitz', 'chess_rapid', 'chess_bullet']\n",
    "    for category in categories:\n",
    "                print('Category:', category)\n",
    "                print(f'Current: {data[category][\"last\"][\"rating\"]}')\n",
    "                print(f'Best: {data[category][\"best\"][\"rating\"]}')\n",
    "                print(f'Best: {data[category][\"record\"]}')\n"
   ]
  },
  {
   "cell_type": "code",
   "execution_count": 9,
   "id": "50e7ed0a-9e6e-40d5-972b-6bc7d9b1da26",
   "metadata": {
    "tags": []
   },
   "outputs": [],
   "source": [
    "username=(\"Hsouna1\")\n",
    "def print_leaderboards():\n",
    "\tdata = get_leaderboards().json\n",
    "\tcategories = data.keys()\n",
    "\n",
    "\tfor category in categories:\n",
    "\t\tprint('Category:', category)\n",
    "\t\tfor idx, entry in enumerate(data[category]):\n",
    "\t\t\tprint(f'Rank: {idx + 1} | Username: {entry[\"username\"]} | Rating: {entry[\"score\"]}')\n",
    "\n",
    "\n",
    "def get_player_rating(username):\n",
    "\tdata = get_player_stats(username).json\n",
    "\tcategories = ['chess_blitz', 'chess_rapid', 'chess_bullet']\n",
    "\tfor category in categories:\n",
    "\t\tprint('Category:', category)\n",
    "\t\tprint(f'Current: {data[category][\"last\"][\"rating\"]}')\n",
    "\t\tprint(f'Best: {data[category][\"best\"][\"rating\"]}')\n",
    "\t\tprint(f'Best: {data[category][\"record\"]}')\n"
   ]
  },
  {
   "cell_type": "code",
   "execution_count": null,
   "id": "23882784-18b3-42db-a069-383612932e2b",
   "metadata": {},
   "outputs": [],
   "source": []
  }
 ],
 "metadata": {
  "kernelspec": {
   "display_name": "Python 3 (ipykernel)",
   "language": "python",
   "name": "python3"
  },
  "language_info": {
   "codemirror_mode": {
    "name": "ipython",
    "version": 3
   },
   "file_extension": ".py",
   "mimetype": "text/x-python",
   "name": "python",
   "nbconvert_exporter": "python",
   "pygments_lexer": "ipython3",
   "version": "3.9.10"
  }
 },
 "nbformat": 4,
 "nbformat_minor": 5
}
